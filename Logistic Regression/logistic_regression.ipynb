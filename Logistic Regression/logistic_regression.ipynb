{
 "cells": [
  {
   "cell_type": "code",
   "execution_count": 16,
   "metadata": {},
   "outputs": [],
   "source": [
    "import numpy as np\n",
    "import pandas as pd\n",
    "import matplotlib.pyplot as plt\n",
    "from typing import List, Tuple, Callable\n",
    "from sklearn.metrics import accuracy_score"
   ]
  },
  {
   "cell_type": "markdown",
   "metadata": {},
   "source": [
    "### 1.  The problem: The probability of passing an exam versus hours of study\n",
    "\n",
    "A group of 20 students spends between 0 and 6 hours studying for an exam. How does the number of hours spent studying affect the probability of the student passing the exam?"
   ]
  },
  {
   "cell_type": "code",
   "execution_count": 17,
   "metadata": {},
   "outputs": [],
   "source": [
    "X = np.asarray ([[0.50], [0.75], [1.00], [1.25], [1.50], [1.75], [3.00], [4.75],\n",
    "[1.75], [3.25], [5.00], [2.00], [2.25], [2.50], [2.75], [3.50], [4.00], [4.25],\n",
    "[4.50], [5.50]])\n",
    "y = np.asarray([0, 0, 0, 0, 0, 0, 1, 0, 1, 0, 1,0,1,0,1,1,1,1,1,1])"
   ]
  },
  {
   "cell_type": "code",
   "execution_count": 18,
   "metadata": {},
   "outputs": [],
   "source": [
    "def predictHypothesis(X : List[float], theta : List[float], \\\n",
    "                      bias : List[float])->List[float]:\n",
    "    \"\"\" \n",
    "        Compute the dot product of the training set and theta tranposed + bias\n",
    "        returns the model estimated probability\n",
    "    \"\"\"\n",
    "    return (np.dot(X, theta.T) + bias)"
   ]
  },
  {
   "cell_type": "code",
   "execution_count": 19,
   "metadata": {},
   "outputs": [],
   "source": [
    "def sigmoid(z: List[float]) ->List[float]:\n",
    "    \"\"\"Maps the predicted values to probabilities by converting \n",
    "       any real number to a number between 0 and 1\"\"\"\n",
    "    return 1/ (1+np.exp(-z))"
   ]
  },
  {
   "cell_type": "code",
   "execution_count": 20,
   "metadata": {},
   "outputs": [],
   "source": [
    "def costFunction(yActual : List[float], yPred: List[float]) -> float:\n",
    "    \"\"\"Cross entropy function for a single training input \"\"\"\n",
    "    return -((yActual * np.log(yPred)) + (1 - yActual) * np.log(1- yPred)).mean()\n"
   ]
  },
  {
   "cell_type": "code",
   "execution_count": 21,
   "metadata": {},
   "outputs": [],
   "source": [
    "def gradientDescent(theta: List[float],bias : List[float],\\\n",
    "                    learningRate : float, yPred, yActual) -> List[float] :\n",
    "    \"\"\"\n",
    "        Compute the difference between the predicted and the actual values\n",
    "        and compute the average of over all training instances for the theta \n",
    "        values.\n",
    "        \n",
    "    \"\"\"\n",
    "    dtheta : List[float]= 1/ len(y) * np.sum(np.dot(X.T , (yPred - yActual)))    \n",
    "    dbias : List[float] = np.sum(yPred - yActual)\n",
    "        \n",
    "    theta = theta - learningRate * dtheta\n",
    "    bias = bias - learningRate * dbias\n",
    "\n",
    "    return theta, bias\n",
    "    "
   ]
  },
  {
   "cell_type": "code",
   "execution_count": 22,
   "metadata": {},
   "outputs": [],
   "source": [
    "def hasConverged(trainingLoss : List[float], tolerance : float = 1e-05)->Tuple[int,float]:\n",
    "    \"\"\"\n",
    "        Iterate over the maximum number of epochs, if the number of epochs is \n",
    "        greater than 2, in every 5 steps, check if the current loss value minus \n",
    "        is previous loss value is less than the tolerance  0.00001\n",
    "        If true, return the number of epochs and the loss value\n",
    "    \"\"\"\n",
    "    epochs : int = 1000\n",
    "    try:\n",
    "        for epoch in range(epochs):\n",
    "            if epoch > 2:\n",
    "                if epoch % 5 == 0:\n",
    "                    if np.abs((trainingLoss[epoch] - trainingLoss[epoch - 1])) <= tolerance:       \n",
    "                        return epoch,trainingLoss[epoch]\n",
    "    except IndexError:\n",
    "        pass\n",
    "    "
   ]
  },
  {
   "cell_type": "code",
   "execution_count": 23,
   "metadata": {},
   "outputs": [],
   "source": [
    "def fit(X : List[float], y :  List[float], \\\n",
    "        learningRate : float)->Tuple[float,float]:\n",
    "    \"\"\"\n",
    "        Takes the training output and labels and the learning rate\n",
    "        Initializes the theta values and the loss history\n",
    "        Until the algorithm has not converged: \n",
    "        Update the values of the predictions, the losses\n",
    "        and the theta and bias values \n",
    "        Once it has converged, return the final prediction,\n",
    "        training loss, theta and bias\n",
    "    \n",
    "    \"\"\"\n",
    "\n",
    "    theta, bias = initializeThetaValues()\n",
    "    loss = []\n",
    "\n",
    "    while not hasConverged(loss):\n",
    "        yPred = sigmoid(predictHypothesis(X, theta, bias))\n",
    "        loss.append(costFunction(y, yPred))\n",
    "        theta, bias= gradientDescent(theta, bias, learningRate, yPred, y)\n",
    "    \n",
    "    epoch, lowestTrainingLoss = hasConverged(loss)\n",
    "    return yPred, loss, epoch, lowestTrainingLoss\n",
    "     \n",
    "\n",
    "def initializeThetaValues()->List[float]:\n",
    "    \"\"\"Initialize the theta values\"\"\"\n",
    "    theta : Tuple[float, float] = np.zeros((X.shape[1])), np.zeros((X.shape[1]))\n",
    "    return theta\n"
   ]
  },
  {
   "cell_type": "code",
   "execution_count": 24,
   "metadata": {},
   "outputs": [],
   "source": [
    "yPred, loss, epoch, lowestTrainingLoss = fit(X,y, 0.3)"
   ]
  },
  {
   "cell_type": "markdown",
   "metadata": {},
   "source": [
    "### Accuracy"
   ]
  },
  {
   "cell_type": "code",
   "execution_count": 25,
   "metadata": {},
   "outputs": [],
   "source": [
    "def decisionBoundary(yPred: List[float]) -> List[int]:\n",
    "    \"\"\"return 1 if the prediction is >=0.5, otherwise return 0\"\"\"\n",
    "    return [1 if pred >=0.5 else 0 for pred in yPred ]\n"
   ]
  },
  {
   "cell_type": "code",
   "execution_count": 26,
   "metadata": {},
   "outputs": [
    {
     "name": "stdout",
     "output_type": "stream",
     "text": [
      "Accuracy: 80.0 %\n"
     ]
    }
   ],
   "source": [
    "pred = decisionBoundary(yPred)\n",
    "print('Accuracy:', accuracy_score(y, pred) * 100,'%')"
   ]
  },
  {
   "cell_type": "markdown",
   "metadata": {},
   "source": [
    "## Tasks "
   ]
  },
  {
   "cell_type": "markdown",
   "metadata": {},
   "source": [
    "#### [writeup] In a markdown box, write a short report (no more than 400 words) that describes the workings of your code."
   ]
  },
  {
   "cell_type": "markdown",
   "metadata": {},
   "source": [
    "<b>predictHypothesis</b>: Computes the dot product and gives the algorithm prediction: \n",
    "\n",
    "$$ z =  h_{\\theta}(x) \\ {=} \\ \\theta^Tx \\ {+ \\ b} \\$$\n",
    "\n",
    "<br><br>\n",
    "<b>Sigmoid function</b> also knoww as <b>squashing fuction</b>  Takes the algorithm's prediction computed by the predictHypothesis and maps it to a y value between 0 and 1, using the function:   \n",
    "\n",
    "$$ h_{\\theta}(x) {= g(z) =} \\frac{1}{1+e^{-z}}$$\n",
    "\n",
    "<br><br>\n",
    "<b>Cost function</b>\n",
    "The objective of the cost function is see how well the model is performing given a set of theta parameters. For logistic regression the cost function is defined as: \n",
    "\n",
    "$$\\text{Cost}(h_{\\theta}(x), y) = \\{ \\begin{array}{1 1} -\\log(h_{\\theta}(x)) & \\quad \\text{if $y = 1$}\\\\ -\\log(1 - h_{\\theta}(x)) & \\quad \\text{if $y = 0$}\\\\ \\end{array} $$\n",
    "\n",
    "<br><br>\n",
    "<b>GradientDescent</b>The goal of  gradient descent is to find the global minimum of the problem. The algorithm updates the theta parameters in order to minimize the cost.  \n",
    "\n",
    "$$ J(\\theta)  = \\frac{1}{m} \\sum\\limits_{i=1}^{m}({\\sigma}({\\theta^Tx^{(i)} - y^{(i)})x_j^{(i)}}  $$\n",
    " \n",
    "<br><br>\n",
    "<b>hasConverged</b>:Algorithm designed to stop the iterations (epochs) once the difference in the  loss values has become insignificant. After the second iteration (to avoid an index error) the algorithm will check in every 5 iterations if the difference between the current and the previous iteration is less then 0.00001. If so, the algorithm returns the number of iterations and the current loss value\n",
    "\n",
    "<br><br> \n",
    " <b>Fit</b>:\n",
    "Fit is the main function used to train the data. It takes the necessary parameters: (training set, true labels, learning rate) and while the algorithm has not converged, it updates the predictions, the theta values,  and the loss\n",
    " \n",
    "<br><br>\n",
    "<b>decisionBoundary</b>:\n",
    "Logistic Regression Model Prediction: \n",
    "Outputs a list with the predicted outputs based on the decision boundary below\n",
    "$$\\hat{y} =\n",
    "\\left\\{\n",
    "    \\begin{array}{ll}\n",
    "        {0}  & \\mbox{if}\\ \\hat{p} < 0.5 \\\\\n",
    "        {1} & \\mbox{if}\\ \\hat{p}  \\geq 0.5\n",
    "    \\end{array}\n",
    "\\right.$$\n",
    "\n",
    "<br><br>\n",
    "<b>plotLoss</b>: \n",
    "The original goal of this function was to plot the training loss with the first learning rate that I used (0.01). The algorithm took 920 iterations to converge with a loss of 0.4989. Through some experiments, I have come to the conclusion that the best learning rate is 0.3, taking only 65 iterations to converge and with a loss of 0.4963\n",
    "<br><br>\n",
    "<b>aTooLarge</b>:\n",
    "Works in a similar way as the plotLoss function, however the learning rates are high. The number of iterations is set to a maximum of 30, otherwise the plot becomes too cluttered  "
   ]
  },
  {
   "cell_type": "markdown",
   "metadata": {},
   "source": [
    "## Questions"
   ]
  },
  {
   "cell_type": "markdown",
   "metadata": {},
   "source": [
    "#### 1. After how many iterations, and for which learning rate (α) did your algorithm converge? Plot the loss function with respect to iterations to illustrate this point. "
   ]
  },
  {
   "cell_type": "markdown",
   "metadata": {},
   "source": [
    "With the learning rate is 0.3, the algorithm took 65 steps to converged with a loss of 0.4963904154905137. With the learning rate at 0.4, the algorithm took only 35 steps to converge but the learning loss did spike in the first few iterations, followed by a sharp decrease."
   ]
  },
  {
   "cell_type": "code",
   "execution_count": 27,
   "metadata": {},
   "outputs": [
    {
     "name": "stdout",
     "output_type": "stream",
     "text": [
      "numEpochs: 155  loss 0.49660343308124205\n",
      "numEpochs: 90  loss 0.49643904052090376\n",
      "numEpochs: 65  loss 0.4963904154905137\n",
      "numEpochs: 35  loss 0.496360689525305\n"
     ]
    },
    {
     "data": {
      "image/png": "[encoded data removed]",
      "text/plain": [
       "<Figure size 432x288 with 1 Axes>"
      ]
     },
     "metadata": {
      "needs_background": "light"
     },
     "output_type": "display_data"
    }
   ],
   "source": [
    "def plotLoss(loss : List[float], _lrate: List[float], func: Callable = None ):\n",
    "    \"\"\"\n",
    "        Takes the output of the loss function, a list of learning rates and a function.\n",
    "        Fit the training data according to the function\n",
    "        Plot the results\n",
    "    \"\"\"\n",
    "    for lr in _lrate:\n",
    "        \n",
    "        try:\n",
    "            if func == fit:\n",
    "                yPred, loss, epoch, lowestTrainingLoss = func(X,y, lr)\n",
    "                print('numEpochs: {epochs}  loss {minValue}'.format(epochs=epoch, minValue=lowestTrainingLoss))    \n",
    "            if func == aTooLarge:\n",
    "                loss = func(X,y, lr)\n",
    "                print('Learning rate {lr}     maximum loss {loss}' \n",
    "                      .format(lr=lr, loss=max(loss)))\n",
    "        except NameError:\n",
    "            pass\n",
    "        \n",
    "        plt.ylabel('Loss')\n",
    "        plt.xlabel('Epochs')\n",
    "        plt.title('Training Loss')\n",
    "\n",
    "        plt.plot(loss, label = \"Learning rate: \"+ str(lr))\n",
    "        plt.legend();\n",
    "\n",
    "            \n",
    "\n",
    "lr = [0.1, 0.2, 0.3, 0.4]\n",
    "plotLoss(loss, lr, fit)"
   ]
  },
  {
   "cell_type": "code",
   "execution_count": 28,
   "metadata": {},
   "outputs": [
    {
     "name": "stdout",
     "output_type": "stream",
     "text": [
      "Best learning rate is 0.3: numEpochs: 65 loss 0.4963904154905137\n"
     ]
    },
    {
     "data": {
      "image/png": "[encoded data removed]",
      "text/plain": [
       "<Figure size 432x288 with 1 Axes>"
      ]
     },
     "metadata": {
      "needs_background": "light"
     },
     "output_type": "display_data"
    }
   ],
   "source": [
    "print('Best learning rate is {lr}: numEpochs: {epochs} loss {minValue}'.\\\n",
    "      format(epochs=epoch, minValue=lowestTrainingLoss, lr=0.3))\n",
    "\n",
    "plt.ylabel('Loss')\n",
    "plt.xlabel('Epochs')\n",
    "plt.title('Training Loss')\n",
    "\n",
    "plt.plot(loss, label = \"Learning rate: \" + str(0.3))\n",
    "plt.legend();"
   ]
  },
  {
   "cell_type": "markdown",
   "metadata": {},
   "source": [
    "#### 2. What happens if α is too large? How does this affect the loss function? Plot the loss function with respect to iterations to illustrate this point."
   ]
  },
  {
   "cell_type": "markdown",
   "metadata": {},
   "source": [
    "As the plot shows, when setting a large learning rate, the learning loss is high, and the model never converges."
   ]
  },
  {
   "cell_type": "code",
   "execution_count": 29,
   "metadata": {},
   "outputs": [],
   "source": [
    "def aTooLarge(X : List[float], y :  List[float], learningRate : float):\n",
    "    theta, bias = initializeThetaValues()\n",
    "    loss = []\n",
    "    \n",
    "    for epoch in range(25):\n",
    "        yPred = sigmoid(predictHypothesis(X, theta, bias))\n",
    "        loss.append(costFunction(y, yPred))\n",
    "        theta, bias = gradientDescent(theta, bias, learningRate, yPred, y)\n",
    "    \n",
    "    return loss\n"
   ]
  },
  {
   "cell_type": "code",
   "execution_count": 30,
   "metadata": {},
   "outputs": [
    {
     "name": "stdout",
     "output_type": "stream",
     "text": [
      "Learning rate 1.0     maximum loss 4.1686339043514975\n",
      "Learning rate 1.4     maximum loss 5.919109926650288\n",
      "Learning rate 1.7     maximum loss 6.64543879739646\n",
      "Learning rate 2.0     maximum loss 8.558051069192986\n"
     ]
    },
    {
     "data": {
      "image/png": "[encoded data removed]",
      "text/plain": [
       "<Figure size 432x288 with 1 Axes>"
      ]
     },
     "metadata": {
      "needs_background": "light"
     },
     "output_type": "display_data"
    }
   ],
   "source": [
    "lrLarge = [1.0, 1.4, 1.7, 2.0]\n",
    "plotLoss(loss, lrLarge, aTooLarge)"
   ]
  },
  {
   "cell_type": "markdown",
   "metadata": {},
   "source": [
    "#### 3. Assume that you are applying logistic regression to the iris (flower) dataset, as in the previous assignment. Answer the following questions:"
   ]
  },
  {
   "cell_type": "markdown",
   "metadata": {},
   "source": [
    "##### a) How would your hypothesis function change in this case and why?"
   ]
  },
  {
   "cell_type": "markdown",
   "metadata": {},
   "source": [
    "In binary classification, the hypothesis is defined as ${z =}  h_{\\theta}(x) = {\\theta^Tx} $. \n",
    "That is then applied to the logistic model using the function $ h_{\\theta}(x) {= g(z) =} \\frac{1}{1+e^{-z}} $ so that there are only two possible outputs : \n",
    "${y} \\in {\\{0, 1}\\} $\n",
    "\n",
    "\n",
    "However, a single hypothesis line is insufficient to separate more than two classes. Given a multiclass classification problem, a technique must be used to accommodate $ {C} $ number of classes such that $ {c \\in \\{0, 1, 2, …, C - 1}\\}$. One common approach is known as the one-vs-rest.  The idea is similar to the binary classification problem:  computes the probability of each class, though now each class with its own theta parameters \n",
    " \n",
    "$$ h^{c}_{\\theta}{(x) = } \\  \\theta^T_{c} x  $$\n",
    "\n",
    "To predict that a class $ {c \\in \\{0, 1, 2, …, C - 1}\\}$,  choose the class with the highest estimated probability\n",
    "\n",
    "$$ \\hat{y} = \\textrm{argmax}_{c} =  h^{c}_{\\theta}{(x) = } \\  \\theta^T_{c} x  $$ \n",
    "\n",
    "\n",
    "\n",
    " \n",
    "\n"
   ]
  },
  {
   "cell_type": "markdown",
   "metadata": {},
   "source": [
    " ##### (b) How would you utilize your implementation of logistic regression in order to perform (multi-class) classification on the iris dataset? Include some pseudocode while discussing your approach."
   ]
  },
  {
   "cell_type": "markdown",
   "metadata": {},
   "source": [
    "Using the one-versus-all method, iterate over the list of  the labels so that each class has its unique label $ y = {\\{0,1,2}\\}$. Theta values must be initialized to the shape of the training set, which has four features. If the current label matches the unique set of labels, that means it belongs to that class, otherwise it does not. \n",
    "<br><br>\n",
    "Get the doc product of the training set and the theta transposed. Use thesigmoid function to squash the value between 0 and 1.\n",
    "Get the error and append it so that the gradient descent updates the theta parameters. To predict a class, return the highest prediction\n",
    "<br><br>\n",
    "predictions = []<br>\n",
    "loss = []<br>\n",
    "<br>\n",
    "For each label in set(y):<br>\n",
    "&emsp;&emsp;&emsp;&emsp; If current label == class(y):<br>\n",
    "&emsp;&emsp;&emsp;&emsp;&emsp;&emsp;&emsp;&emsp;\t\ty_copy = Set Class to 1<br>\n",
    "&emsp;&emsp;&emsp;&emsp;\telse:<br>\n",
    "&emsp;&emsp;&emsp;&emsp;&emsp;&emsp;&emsp;&emsp;\t\ty_copy = Set class to 0<br>\t\t\t\n",
    "\n",
    "&emsp;&emsp;&emsp;&emsp; While has not converged(loss):<br>\n",
    "&emsp;&emsp;&emsp;&emsp;&emsp;&emsp;&emsp;&emsp;\t\t\tyPred = sigmoid(get_dot_Product.(X, theta.T)))\t\n",
    "&emsp;&emsp;&emsp;&emsp;&emsp;&emsp;&emsp;&emsp;\terror =  y_copy - yPred<br>\n",
    "&emsp;&emsp;&emsp;&emsp;&emsp;&emsp;&emsp;&emsp;\tloss.append(error)<br>\n",
    "&emsp;&emsp;&emsp;&emsp;&emsp;&emsp;&emsp;&emsp;\ttheta, bias = gradientDescent(theta, bias, learningRate, yPred, y) <br>\n",
    "\t\t\n",
    "&emsp;&emsp;&emsp;&emsp; predictions.append(yPred)\n",
    "\n",
    "return max(predictions)\n"
   ]
  },
  {
   "cell_type": "markdown",
   "metadata": {},
   "source": [
    "## Bibliography"
   ]
  },
  {
   "cell_type": "markdown",
   "metadata": {},
   "source": [
    "\n",
    "\n",
    "General Guidance: Lecture Slides\n",
    "\n",
    "Question 3 a):\n",
    "GeÌron, Aureìlien. 2019. Hands-on Machine Learning with Scikit-Learn, Keras and TensorFlow: Concepts, Tools, and Techniques to Build Intelligent Systems. 2nd ed. CA 95472: O’Reilly.\n",
    "pages 143 - 151\n",
    "\n",
    "Inspiration for question 3 b)\n",
    "https://kenzotakahashi.github.io/logistic-regression-from-scratch-in-python.html"
   ]
  }
 ],
 "metadata": {
  "kernelspec": {
   "display_name": "Python 3.8.9 64-bit",
   "language": "python",
   "name": "python3"
  },
  "language_info": {
   "codemirror_mode": {
    "name": "ipython",
    "version": 3
   },
   "file_extension": ".py",
   "mimetype": "text/x-python",
   "name": "python",
   "nbconvert_exporter": "python",
   "pygments_lexer": "ipython3",
   "version": "3.8.9"
  },
  "vscode": {
   "interpreter": {
    "hash": "31f2aee4e71d21fbe5cf8b01ff0e069b9275f58929596ceb00d14d90e3e16cd6"
   }
  }
 },
 "nbformat": 4,
 "nbformat_minor": 4
}
